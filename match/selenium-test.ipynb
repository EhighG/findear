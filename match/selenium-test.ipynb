{
 "cells": [
  {
   "cell_type": "code",
   "execution_count": 1,
   "metadata": {},
   "outputs": [],
   "source": [
    "from selenium import webdriver \n",
    "from selenium.webdriver.common.by import By # find_element 함수 쉽게 쓰기 위함\n",
    "from selenium.webdriver.common.action_chains import ActionChains\n",
    "from selenium.webdriver.common.keys import Keys\n",
    "from selenium.webdriver.support.ui import Select"
   ]
  },
  {
   "cell_type": "code",
   "execution_count": 2,
   "metadata": {},
   "outputs": [
    {
     "name": "stdout",
     "output_type": "stream",
     "text": [
      "<selenium.webdriver.chrome.webdriver.WebDriver (session=\"464e4816d304bb733f58495c6174b31d\")>\n",
      "chrome\n",
      "색이름검색팔레트\n"
     ]
    }
   ],
   "source": [
    "\n",
    "path = 'http://web.kats.go.kr/KoreaColor/color.asp'\n",
    "\n",
    "driver = webdriver.Chrome()\n",
    "driver.get(path)\n",
    "print(driver)\n",
    "print(driver.name)\n",
    "title = driver.title\n",
    "print(title)"
   ]
  },
  {
   "cell_type": "code",
   "execution_count": 4,
   "metadata": {},
   "outputs": [],
   "source": [
    "inputBox = driver.find_element(By.XPATH,'/html/body/form/table/tbody/tr[2]/td/table/tbody/tr/td/table/tbody/tr[1]/td[1]/table/tbody/tr/td[3]/table/tbody/tr[3]/td/table/tbody/tr/td[2]/input' )\n",
    "query = '노랑'\n",
    "inputBox.clear()\n",
    "inputBox.send_keys(query)\n",
    "inputBox.send_keys(Keys.RETURN)"
   ]
  },
  {
   "cell_type": "code",
   "execution_count": 5,
   "metadata": {},
   "outputs": [
    {
     "name": "stdout",
     "output_type": "stream",
     "text": [
      "['노랑', '노랑(KS계통색명)', '연한 노랑(연노랑)(KS계통색명)', '진한 노랑(진노랑)(KS계통색명)', '흐린노랑(KS계통색명)', '흰 노랑(KS계통색명)']\n",
      "exact colro exists\n",
      "0\n"
     ]
    }
   ],
   "source": [
    "\n",
    "colorBox = driver.find_element(By.XPATH, '/html/body/form/table/tbody/tr[2]/td/table/tbody/tr/td/table/tbody/tr[1]/td[1]/table/tbody/tr/td[3]/table/tbody/tr[6]/td/div/select')\n",
    "colorLst = colorBox.text.split('\\n')\n",
    "import random\n",
    "print(colorLst)\n",
    "if query in colorLst:\n",
    "    print('exact colro exists')\n",
    "    index = colorLst.index(query)\n",
    "else:\n",
    "    index = random.randint(0, len(colorLst))\n",
    "print(index)"
   ]
  },
  {
   "cell_type": "code",
   "execution_count": 6,
   "metadata": {},
   "outputs": [],
   "source": [
    "se = Select(colorBox)\n",
    "# 텍스트값으로 option 선택하기\n",
    "se.select_by_index(index)"
   ]
  },
  {
   "cell_type": "code",
   "execution_count": 7,
   "metadata": {},
   "outputs": [],
   "source": [
    "selected_option = se.first_selected_option\n",
    "\n",
    "# ActionChains 객체 생성 후 더블 클릭 액션 추가\n",
    "action = ActionChains(driver)\n",
    "action.double_click(selected_option).perform()"
   ]
  },
  {
   "cell_type": "code",
   "execution_count": 8,
   "metadata": {},
   "outputs": [
    {
     "name": "stdout",
     "output_type": "stream",
     "text": [
      "86.35\n",
      "-2.98\n",
      "99.95\n"
     ]
    }
   ],
   "source": [
    "# 빈문자열일 때 고려.\n",
    "# 값이 하나면 그것으로 고정\n",
    "rgb = driver.find_element(By.NAME, 'html_text').get_attribute('value')\n",
    "lab = driver.find_element(By.XPATH, '/html/body/form/table/tbody/tr[2]/td/table/tbody/tr/td/table/tbody/tr[3]/td[3]/table/tbody/tr[15]/td/table/tbody/tr')\n",
    "t = lab.find_elements(By.TAG_NAME, 'input')\n",
    "for i in t:\n",
    "    print(i.get_attribute('value'))"
   ]
  },
  {
   "cell_type": "code",
   "execution_count": 8,
   "metadata": {},
   "outputs": [
    {
     "data": {
      "text/plain": [
       "'FDD600'"
      ]
     },
     "execution_count": 8,
     "metadata": {},
     "output_type": "execute_result"
    }
   ],
   "source": [
    "rgb"
   ]
  }
 ],
 "metadata": {
  "kernelspec": {
   "display_name": "match-R559k-MG-py3.12",
   "language": "python",
   "name": "python3"
  },
  "language_info": {
   "codemirror_mode": {
    "name": "ipython",
    "version": 3
   },
   "file_extension": ".py",
   "mimetype": "text/x-python",
   "name": "python",
   "nbconvert_exporter": "python",
   "pygments_lexer": "ipython3",
   "version": "3.12.2"
  }
 },
 "nbformat": 4,
 "nbformat_minor": 2
}
